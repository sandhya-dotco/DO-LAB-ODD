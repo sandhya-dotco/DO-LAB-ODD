{
  "nbformat": 4,
  "nbformat_minor": 0,
  "metadata": {
    "colab": {
      "provenance": [],
      "authorship_tag": "ABX9TyP1dzODxioKKPOcOc5D0RpU",
      "include_colab_link": true
    },
    "kernelspec": {
      "name": "python3",
      "display_name": "Python 3"
    },
    "language_info": {
      "name": "python"
    }
  },
  "cells": [
    {
      "cell_type": "markdown",
      "metadata": {
        "id": "view-in-github",
        "colab_type": "text"
      },
      "source": [
        "<a href=\"https://colab.research.google.com/github/sandhya-dotco/DO-LAB-ODD/blob/main/odd.ipynb\" target=\"_parent\"><img src=\"https://colab.research.google.com/assets/colab-badge.svg\" alt=\"Open In Colab\"/></a>"
      ]
    },
    {
      "cell_type": "code",
      "source": [
        "import pandas as pd\n",
        "df = pd.read_excel(\"/content/Untitled spreadsheet.xlsx\")"
      ],
      "metadata": {
        "id": "cnfE7x45TBmk"
      },
      "execution_count": 1,
      "outputs": []
    },
    {
      "cell_type": "code",
      "source": [
        "print(\"Column Names:\", df.columns.tolist())"
      ],
      "metadata": {
        "colab": {
          "base_uri": "https://localhost:8080/"
        },
        "id": "_xlUrb-DTRY2",
        "outputId": "54254e8b-7448-46a9-d2f5-f541e4c724b2"
      },
      "execution_count": 2,
      "outputs": [
        {
          "output_type": "stream",
          "name": "stdout",
          "text": [
            "Column Names: ['Booking_ID', 'Customer_ID', 'Destination', 'Travel_Dates', 'Booking_Date', 'Number_of_Travelers', 'Travel_Package', 'Payment_Method', 'Total_Cost', 'Travel_Agent', 'Customer_Feedback']\n"
          ]
        }
      ]
    },
    {
      "cell_type": "code",
      "source": [
        "df.columns = df.columns.str.strip()"
      ],
      "metadata": {
        "id": "Si4HPD6aTj_T"
      },
      "execution_count": 3,
      "outputs": []
    },
    {
      "cell_type": "code",
      "source": [
        "avg_cost_per_package = df.groupby(\"Travel_Package\")[\"Total_Cost\"].mean()\n",
        "print(\"\\nAverage Total Cost per Travel Package:\")\n",
        "print(avg_cost_per_package)"
      ],
      "metadata": {
        "colab": {
          "base_uri": "https://localhost:8080/"
        },
        "id": "JvzbeluITq9r",
        "outputId": "7cc719d5-7432-44bc-b75e-858d377a4283"
      },
      "execution_count": 5,
      "outputs": [
        {
          "output_type": "stream",
          "name": "stdout",
          "text": [
            "\n",
            "Average Total Cost per Travel Package:\n",
            "Travel_Package\n",
            "Luxury      53732.465158\n",
            "Premium     51603.118568\n",
            "Standard    52588.036084\n",
            "Name: Total_Cost, dtype: float64\n"
          ]
        }
      ]
    },
    {
      "cell_type": "code",
      "source": [
        "df[\"Travel_Dates\"] = pd.to_datetime(df[\"Travel_Dates\"], errors=\"coerce\")\n",
        "earliest_travel_date = df[\"Travel_Dates\"].min()\n",
        "latest_travel_date = df[\"Travel_Dates\"].max()\n",
        "print(\"\\nEarliest Travel Date:\", earliest_travel_date)\n",
        "print(\"Latest Travel Date:\", latest_travel_date)"
      ],
      "metadata": {
        "colab": {
          "base_uri": "https://localhost:8080/"
        },
        "id": "oVsTeMmeTuRj",
        "outputId": "78e14ccf-ac07-4977-d2a5-b447cf48ab6d"
      },
      "execution_count": 14,
      "outputs": [
        {
          "output_type": "stream",
          "name": "stdout",
          "text": [
            "\n",
            "Earliest Travel Date: 2023-08-20 20:25:00-02:00\n",
            "Latest Travel Date: 2024-08-16 20:25:00-02:00\n"
          ]
        }
      ]
    },
    {
      "cell_type": "code",
      "source": [
        "unique_destinations = df[\"Destination\"].nunique()\n",
        "print(\"\\nNumber of Unique Destinations:\", unique_destinations)"
      ],
      "metadata": {
        "colab": {
          "base_uri": "https://localhost:8080/"
        },
        "id": "GUCHyIbVTzD0",
        "outputId": "f5a30c00-7ded-418b-dfe8-3307ea575a86"
      },
      "execution_count": 7,
      "outputs": [
        {
          "output_type": "stream",
          "name": "stdout",
          "text": [
            "\n",
            "Number of Unique Destinations: 858\n"
          ]
        }
      ]
    },
    {
      "cell_type": "code",
      "source": [
        "range1 = str(earliest_travel_date.date()) + \" to \" + str(latest_travel_date.date())\n",
        "print(\"\\nDate Range:\", range1)"
      ],
      "metadata": {
        "colab": {
          "base_uri": "https://localhost:8080/"
        },
        "id": "7SaKRzHrT3VO",
        "outputId": "aef86c4b-b92c-4e6b-9c59-9951672b2b72"
      },
      "execution_count": 15,
      "outputs": [
        {
          "output_type": "stream",
          "name": "stdout",
          "text": [
            "\n",
            "Date Range: 2023-08-20 to 2024-08-16\n"
          ]
        }
      ]
    },
    {
      "cell_type": "code",
      "source": [
        "date_formats_consistent = df[\"Travel_Dates\"].notna().all()\n",
        "print(\"\\nDate Format Consistency:\", date_formats_consistent)"
      ],
      "metadata": {
        "colab": {
          "base_uri": "https://localhost:8080/"
        },
        "id": "F8LzfR5aT8bm",
        "outputId": "0ae301f4-e7ee-4086-c19a-8da691512579"
      },
      "execution_count": 9,
      "outputs": [
        {
          "output_type": "stream",
          "name": "stdout",
          "text": [
            "\n",
            "Date Format Consistency: False\n"
          ]
        }
      ]
    }
  ]
}